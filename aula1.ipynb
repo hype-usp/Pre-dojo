{
 "cells": [
  {
   "attachments": {},
   "cell_type": "markdown",
   "metadata": {},
   "source": [
    "Uma pequena pausa para uma oração antes de nossa codificação"
   ]
  },
  {
   "cell_type": "code",
   "execution_count": null,
   "metadata": {},
   "outputs": [],
   "source": [
    "import this"
   ]
  },
  {
   "cell_type": "markdown",
   "metadata": {},
   "source": [
    "Traduzindo para as terras tupiniquins, temos:"
   ]
  },
  {
   "cell_type": "code",
   "execution_count": null,
   "metadata": {},
   "outputs": [],
   "source": [
    "\"\"\"\n",
    "O Zen do Python, por Tim Peters\n",
    "\n",
    "Belo é melhor do que feio.\n",
    "Explícito é melhor do que implícito.\n",
    "Simples é melhor do que complexo.\n",
    "Complexo é melhor do que complicado. \n",
    "Linear é melhor do que aninhado.\n",
    "Esparso é melhor do que denso.\n",
    "Legibilidade é importante.\n",
    "Casos especiais não são especiais o suficiente para quebrar as regras.\n",
    "Mesmo que praticidade ganhe da pureza. \n",
    "Erros nunca deverão passar silenciosamente. \n",
    "A não ser que explicitamente silenciados.\n",
    "Em face da ambiguidade, negue a tentação de adivinhar.\n",
    "Deve haver um-- e preferencialmente apenas um --modo óbvio de ser fazer.\n",
    "Embora esse caminho possa não ser óbvio a princípio, a menos que você seja holandês.\n",
    "Agora é melhor do que nunca.\n",
    "Embora nunca é geralmente melhor do que *exatamente* agora.\n",
    "Se a implementação é díficil de explicar, é uma ideia ruim.\n",
    "Se a implementação é fácil de explicar, pode ser uma boa ideia.\n",
    "Namespaces são uma ideia do caramba-- vamos fazer mais deles!\n",
    "\"\"\""
   ]
  },
  {
   "attachments": {},
   "cell_type": "markdown",
   "metadata": {},
   "source": [
    "## Parte 1: O Beabá do Python"
   ]
  },
  {
   "attachments": {},
   "cell_type": "markdown",
   "metadata": {},
   "source": [
    "Para o nosso primeiro código, vamos para o clássico Hello World. Que em Python é literalmente uma linha. Não precisa encapsular em uma função como em C ou criar uma classe inteira só pra escrever no console como em Java. Só uma função no escopo global e vamo que vamo!"
   ]
  },
  {
   "cell_type": "code",
   "execution_count": null,
   "metadata": {},
   "outputs": [],
   "source": [
    "print(\"Hello, world!\")"
   ]
  },
  {
   "cell_type": "markdown",
   "metadata": {},
   "source": [
    "É possível também concatenar textos diferentens em um mesmo print. Basta utilizar vírgulas"
   ]
  },
  {
   "cell_type": "code",
   "execution_count": null,
   "metadata": {},
   "outputs": [],
   "source": [
    "print(\"Hello, world!\", \"Olá, mundo!\")"
   ]
  },
  {
   "cell_type": "markdown",
   "metadata": {},
   "source": [
    "O primeiro aspecto da linguagem que vamos abordar são as variáveis.\n",
    "\n",
    "Variáveis são como caixas que guardam informações, podendo estar vazias ou conter dados como números, texto, datas, bytes, etc. Como o nome sugere, elas são variáveis, o que significa que você pode trocar o valor dentro dela.\n",
    "\n",
    "Existem dois tipos linguagens quando se fala de variáveis: linguagens tipadas e linguagens dinâmicas.\n",
    "\n",
    "Em linguagens tipadas (como Java, C#, C) cada \"caixa\" de uma variável vem com um selo que diz qual o tipo da variável, que não pode ser mudado em nenhuma ocasião.\n",
    "\n",
    "```\n",
    "int numero = 42; // \"numero\" SÓ PODE ser um número inteiro\n",
    "String texto = \"Hello, World!\" // \"texto\" SÓ PODE ser uma string\n",
    "int [] lista = { 1, 2, 3, 4 } //etc\n",
    "```\n",
    "\n",
    "Mas Python é uma linguagem dinâmica, isso é, a variável pode ser de qualquer tipo e pode mudar a qualquer momento. \n",
    "\n",
    "Abaixo usamos a função type() para saber qual o tipo de dado daquela variável específica"
   ]
  },
  {
   "cell_type": "code",
   "execution_count": null,
   "metadata": {},
   "outputs": [],
   "source": [
    "valor = 42 # \"valor\" é um número inteiro\n",
    "print(valor, \" => \", type(valor))\n",
    "\n",
    "valor = \"Hype tá no hype\" # \"valor\" agora é um texto\n",
    "print(valor, \" => \", type(valor))\n",
    "\n",
    "\n",
    "valor = [1, 2, 3, 4, 5] # \"valor\" agora é uma lista (array)\n",
    "print(valor, \" => \", type(valor))"
   ]
  },
  {
   "attachments": {},
   "cell_type": "markdown",
   "metadata": {},
   "source": [
    "Fácil, não? Você não precisa dizer explicitamente qual o tipo da variável, porque o interpretador vai fazer isso por você.\n",
    "\n",
    "Mas se quiser ter *absoluta* certeza do tipo da variável, você pode passá-la para um função de conversão (cast), que pode fazer uma string se tornar em um inteiro, por exemplo. "
   ]
  },
  {
   "cell_type": "code",
   "execution_count": null,
   "metadata": {},
   "outputs": [],
   "source": [
    "nao_numero = int(\"10\")\n",
    "numero = int(10)  \n",
    "\n",
    "# São do mesmo tipo\n",
    "print(nao_numero + numero) \n",
    "\n",
    "# Você pode fazer isso com vários tipos de dados\n",
    "str() # Para Strings\n",
    "float() # Para floats (números reais)\n",
    "list() # Para listas\n",
    "tuple(); # Para tuplas"
   ]
  },
  {
   "attachments": {},
   "cell_type": "markdown",
   "metadata": {},
   "source": [
    "Ou ainda pode também checar o tipo da váriavel (mas geralmente uma boa estrutura de código e nome de váriavel já diz qual o tipo dela)"
   ]
  },
  {
   "cell_type": "code",
   "execution_count": null,
   "metadata": {},
   "outputs": [],
   "source": [
    "# Você consegue instanciar várias variáveis em uma linha!\n",
    "string, numero, numero_real = \"Python é Maneiro!\", 42, 35.98\n",
    "\n",
    "type(string), type(numero), type(numero_real)"
   ]
  },
  {
   "cell_type": "markdown",
   "metadata": {},
   "source": [
    "Esses abaixo são os tipos de dados mais usados no dia a dia codando em Python (e o que iremos focar no nosso curso.)\n",
    "\n",
    "Outros que não iremos usar aqui, mas é legal saber que existem:\n",
    "- Complex (números complexos)\n",
    "- Set (conjunto de elementos sem repetição)\n",
    "- Bytes\n",
    "- ByteArray (array de bytes)"
   ]
  },
  {
   "cell_type": "code",
   "execution_count": null,
   "metadata": {},
   "outputs": [],
   "source": [
    "# String de texto\n",
    "# string são declaradas entre aspas duplas ou simples\n",
    "string = \"Oi Pessoal!\""
   ]
  },
  {
   "cell_type": "code",
   "execution_count": null,
   "metadata": {},
   "outputs": [],
   "source": [
    "# Número inteiro\n",
    "# basta digitar o número sem aspas\n",
    "inteiro = 42"
   ]
  },
  {
   "cell_type": "code",
   "execution_count": null,
   "metadata": {},
   "outputs": [],
   "source": [
    "# Número de ponto flutuante (número real)\n",
    "# utilize \".\" como separador da parte decimal \n",
    "flutuante = 42.24"
   ]
  },
  {
   "cell_type": "code",
   "execution_count": null,
   "metadata": {},
   "outputs": [],
   "source": [
    "# Lista de elementos\n",
    "# declarada entre colchetes e elementos separados por vírgula\n",
    "lista = [\"Oi Pessoal\", 42, 42.24]"
   ]
  },
  {
   "cell_type": "code",
   "execution_count": null,
   "metadata": {},
   "outputs": [],
   "source": [
    "# Tupla (lista de elementos imutável)\n",
    "# declarada entre parênteses e não pode ser alterada\n",
    "tupla = (\"Oi Pessoal\", 42, 42.24)"
   ]
  },
  {
   "cell_type": "code",
   "execution_count": null,
   "metadata": {},
   "outputs": [],
   "source": [
    "# Intervalo de valores\n",
    "# gera um intervalo de valores que será muito útil em loops mais a frente\n",
    "intervalo = range(10)"
   ]
  },
  {
   "cell_type": "code",
   "execution_count": null,
   "metadata": {},
   "outputs": [],
   "source": [
    "from pprint import pprint  # importação para imprimir dicionários de forma melhor (recuso cosmético apenas)\n",
    "\n",
    "# Dicionário (lista de elementos com índices não-inteiros)\n",
    "# é declarado entre chaves, tem cada par índice-elemento seaparado por víruglas\n",
    "# e o índice e o elemnto são separados por \":\" (dois pontos)\n",
    "dicio = {\n",
    "    \"string\": \"Oi Pessoal\",\n",
    "    \"inteiro\": 42,\n",
    "    \"flutuante\": 42.24,\n",
    "    \"lista\": [\"Oi Pessoal\", 42, 42.24]\n",
    "}\n",
    "\n",
    "pprint(dicio)\n"
   ]
  },
  {
   "cell_type": "code",
   "execution_count": null,
   "metadata": {},
   "outputs": [],
   "source": [
    "# Booleanos \n",
    "# booleanos são os True e False. Note que são escritos com inicial maiúscula\n",
    "bool_true = True\n",
    "bool_false = False"
   ]
  },
  {
   "cell_type": "code",
   "execution_count": null,
   "metadata": {},
   "outputs": [],
   "source": [
    "# Valor Nulo (None)\n",
    "# Valor que não atribui tipo à variável\n",
    "nulo = None"
   ]
  },
  {
   "cell_type": "markdown",
   "metadata": {},
   "source": [
    "Esses são os tipos de dados mais comuns de usarmos no dia a dia. É importante que você tenha alguma familiaridade com eles."
   ]
  },
  {
   "attachments": {},
   "cell_type": "markdown",
   "metadata": {},
   "source": [
    "Uma vez que já temos variáveis, podemos fazer manipulações algebricas com elas.\n",
    "\n",
    "Imagine a seguinte situação:\n",
    "\n",
    "O professor E. Biruta quer calcular a média final dos seus 3 mil alunos, mas como são muitos pra fazer na mão ele quer criar um programa para fazer isso pra ele. A média é feita assim: \n",
    "\n",
    "Existem duas provas (P1 e P2), e a nota é calculada da seguinte forma:\n",
    "\n",
    "- A nota da P1 mais um, vale 60% da nota\n",
    "- A nota da P2 menos um, vale 40%\n",
    "\n",
    "- Essas duas notas ponderadas agora são somadas\n",
    "\n",
    "E para a média é calculado assim:\n",
    "\n",
    "- Peso-P1 mais Peso-P2\n",
    "- Como bônus, a gente incrementa o resto da média com a segunda potência de 2 (módulo da média com 2^2) para ter um nota extra"
   ]
  },
  {
   "cell_type": "code",
   "execution_count": null,
   "metadata": {},
   "outputs": [],
   "source": [
    "# Valor das provas\n",
    "p1, p2 = 7, 8\n",
    "\n",
    "# Cada Prova tem seu peso\n",
    "p1_ponderada = (p1 + 1) * 0.6\n",
    "p2_ponderada = (p2 - 1) * 0.4\n",
    "\n",
    "# Media é a soma dos dois\n",
    "media = p1_ponderada + p2_ponderada\n",
    "\n",
    "media"
   ]
  },
  {
   "cell_type": "markdown",
   "metadata": {},
   "source": [
    "Outros operadores que temos além de adição e subitração são: \n",
    "\n",
    "/ : divisão, (3/4 é 3 dividido por 4)\n",
    "\n",
    "** : potência, (3**4 mesmo que 3^4)\n",
    "\n",
    "% : resto da divisão, (3 % 4 é o resto da divisão 3/4)"
   ]
  },
  {
   "cell_type": "code",
   "execution_count": null,
   "metadata": {},
   "outputs": [],
   "source": [
    "print(3/4)\n",
    "print(3**4)\n",
    "print(3%4)"
   ]
  },
  {
   "attachments": {},
   "cell_type": "markdown",
   "metadata": {},
   "source": [
    "Assim como nós podemos usar operadores em números, alguns deles nós podemos usar em textos, para fazer algumas manipulações!"
   ]
  },
  {
   "cell_type": "code",
   "execution_count": null,
   "metadata": {},
   "outputs": [],
   "source": [
    "str1 = \"Meu nome é \"\n",
    "nome = \"Hypezinho\"\n",
    "# Concatenação de Strings (Só funciona se os dois operandos forem string!)\n",
    "print(str1 + nome)             \n",
    "\n",
    "str1 = \"My name is, \"\n",
    "# Repetição de string (Um dos operandos tem de ser um número inteiro!)\n",
    "print((str1 * 3) + \"Slim Shady\") \n",
    "\n",
    "# Formatação de String (vamos ver outros exemplos mais para frente)\n",
    "print(\"Meu nome é %s\" % nome)  "
   ]
  },
  {
   "attachments": {},
   "cell_type": "markdown",
   "metadata": {},
   "source": [
    "Podemos usar em listas também!"
   ]
  },
  {
   "cell_type": "code",
   "execution_count": null,
   "metadata": {},
   "outputs": [],
   "source": [
    "lista1, lista2 = [1, 2, 3], [4, 5, 6]\n",
    "\n",
    "print(lista1 + lista2) # Concatenação de Listas (Só funciona se todos os operandos forem uma lista!)\n",
    "print(lista1 * 3)      # Repetição de Lista (Um dos operandos tem de ser um número inteiro!)"
   ]
  },
  {
   "cell_type": "markdown",
   "metadata": {},
   "source": [
    "Passando dos operadores aritiméticos iremos ver a função que permite receber informações do usuário.\n",
    "\n",
    "A função input() retorna as informações digitadas pelo usuário em forma de string, porém com as funções de conversão o valor pode ser transformado em números, listas, etc.\n",
    "\n",
    "Vamos fazer seu perfil de aluno de python?"
   ]
  },
  {
   "cell_type": "code",
   "execution_count": null,
   "metadata": {},
   "outputs": [],
   "source": [
    "print(\"Formulário de Aluno\")\n",
    "\n",
    "# Retorna seu nome em uma string\n",
    "nome = input(\"Nome do Aluno: \") \n",
    "\n",
    "# Transformamos em inteiro\n",
    "idade = int(input(\"Idade do Aluno: \")) \n",
    "\n",
    "print(\"Nome:\", nome)\n",
    "print(\"Idade daqui a um ano:\", (idade + 1))\n"
   ]
  },
  {
   "cell_type": "markdown",
   "metadata": {},
   "source": [
    "# Parte 2: Condicionais"
   ]
  },
  {
   "cell_type": "markdown",
   "metadata": {},
   "source": [
    "Às vezes queremos rodar instruções somente se alguma condição é verdadeira (ou falsa), e para isso controlamos o que pode ou não ser executado com instruções condicionais. \n",
    "\n",
    "Para checagens condicionais usamos a expressão \"if\", que checa se uma expressão booleana é verdadeira. E caso não for, a expressão \"else\" diz o que a gente deve fazer."
   ]
  },
  {
   "cell_type": "code",
   "execution_count": null,
   "metadata": {},
   "outputs": [],
   "source": [
    "# Os valores True e False *devem* ser escritos com a primeira letra maiúscula\n",
    "# Senão serão tratados como uma variável\n",
    "valor = False\n",
    "\n",
    "if valor == True: \n",
    "    print(\"É verdade! :D\") # Se a condição for verdadeira\n",
    "else:\n",
    "    print(\"É mentira :(\") # Se a condição for falsa"
   ]
  },
  {
   "cell_type": "markdown",
   "metadata": {},
   "source": [
    "Imagine o exemplo de sistema de uma rede social que libera informações diferentes dependendo da idade do usuário.\n",
    "\n",
    "- Se a idade do usuário for maior que 18 a rede mostra os conteúdos sem censura.\n",
    "- Se a idade do usuário for entre 15 e 18 a rede mostra conteúdos com uma certa censura\n",
    "- Se a idade do usuário for entre 10 e 15 a rede mostra conteúdos com um nivel maior de censura\n",
    "- e caso tenha menos que 10 ano a rede mostra apenas conteúdos infantis\n",
    "\n",
    "Um código que resolveria esse problema seria algo como:\n"
   ]
  },
  {
   "cell_type": "code",
   "execution_count": null,
   "metadata": {},
   "outputs": [],
   "source": [
    "idade = 17 # Mude aqui, e teste\n",
    "\n",
    "if idade >= 18:\n",
    "    print('Sem censura')\n",
    "\n",
    "# nível 1 de censura\n",
    "if idade > 15 and idade < 18:\n",
    "    print('Censura 1')\n",
    "    \n",
    "# Recebimento da nota extra abaixo da média\n",
    "if idade > 10 and idade <= 15:\n",
    "    print('Censura 2')\n",
    "    \n",
    "if idade <= 10:\n",
    "    print('Censura infantil')\n"
   ]
  },
  {
   "cell_type": "markdown",
   "metadata": {},
   "source": [
    "Como as condições são independentes entre si (nunca vai ter uma idade maior que 18 e menor que 15 ao mesmo temo), a gente pode colocar ele num *if sequencial*, que é mais eficiente. \n",
    "\n",
    "Podemos criar vários \"if\"s usando a expressão \"elif\". Que é um \"else\", só que colocamos outra expressão para checar em vez de só executar.  "
   ]
  },
  {
   "cell_type": "code",
   "execution_count": null,
   "metadata": {},
   "outputs": [],
   "source": [
    "idade = 10 # Mude aqui, e teste\n",
    "\n",
    "if idade > 18: # Recebimento da nota extra abaixo da média\n",
    "    print('Sem censura')\n",
    "elif idade > 15 and idade < 18:\n",
    "    print('Censura 1')\n",
    "elif idade > 10 and idade <= 15:\n",
    "    print('Censura 2')\n",
    "\n",
    "else:\n",
    "    print('Censura infantil') \n",
    "# o else só é executado se nenhum dos elif for executado\n"
   ]
  },
  {
   "cell_type": "markdown",
   "metadata": {},
   "source": [
    "Quando estamos utilizando expressões booleanas existem alguns operadores que são utilizados. Você já entrou em contato com alguns deles no código acima. \n",
    "\n",
    "São eles:\n",
    "\n",
    "* and, or, not,  in (operadores \"e\", \"ou\", \"not\", \"está em\")\n",
    "* \\>, <, >=, <=, ==, !=\n",
    "(maior, menor, maior e igual, menor e igual, igual e diferente respectivamente)"
   ]
  },
  {
   "cell_type": "markdown",
   "metadata": {},
   "source": [
    "# Parte 3: Estruturas de Dados"
   ]
  },
  {
   "cell_type": "markdown",
   "metadata": {},
   "source": [
    "Curiosamente, em python não existem arrays embutidos nativamente. Já que por definição, um array é um bloco de memória *contínuo* que pode armazenar múltiplos valores, sendo que seu tamanho é imutável e os valores aramazenados são do mesmo tipo. \n",
    "\n",
    "Em python temos ao invés listas, que, como o nome indica, são listas de valores de tamanho variável e que podem armazenar quaisquer valores dentro. Tecnicamente não são como arrays, mas por razões de brevidade e didática, vamos tratar como a mesma coisa."
   ]
  },
  {
   "cell_type": "code",
   "execution_count": null,
   "metadata": {},
   "outputs": [],
   "source": [
    "# Pode ser instanciado assim:\n",
    "lista = list()\n",
    "# ou assim:\n",
    "lista = []\n",
    "\n",
    "# \".append\" adiciona um elemento no final de uma lista\n",
    "lista.append(\"Python\")\n",
    "lista.append(42)\n",
    "lista.append(( \"Um\", \"exemplo\", \"de\", \"tupla\" ))\n",
    "lista.append(22.34)\n",
    "lista # vários tipos de dados num mesmo lugar!"
   ]
  },
  {
   "cell_type": "markdown",
   "metadata": {},
   "source": [
    "Podemos também brincar com os índices das listas com alguns outros graus de liberdade em relação a outras linguagens de programação, uma vez que temos operações com eles. "
   ]
  },
  {
   "cell_type": "code",
   "execution_count": null,
   "metadata": {},
   "outputs": [],
   "source": [
    "# Podemos usar os índices normalmente\n",
    "print(lista[0], lista[1], lista[2], sep=\" - \")\n",
    "\n",
    "# Mas existem também índices negativos! (a contagem é feita de traz para frente)\n",
    "# -1 -> Último item da lista, -2 -> Penúltimo, -3 -> Antepenúltimo, etc...\n",
    "print(lista[-1], lista[-2], lista[-3], sep=\" - \")\n",
    "\n"
   ]
  },
  {
   "cell_type": "markdown",
   "metadata": {},
   "source": [
    "É possível também selecionar listar por intervalos (slice de listas). Basta utilizar a formatação lista[primeiro:ultimo], sendo \"primeiro\" o índice do primeiro elemento do intervalo e \"ultimo\" o último elemento do intervalo (o valor \"ultimo\" fica fora da seleção)"
   ]
  },
  {
   "cell_type": "code",
   "execution_count": null,
   "metadata": {},
   "outputs": [],
   "source": [
    "print(\" Slices:\")\n",
    "# Podemos pegar slices (ou \"pedaços\") da lista usando índices\n",
    "print(\"1 =>\", lista[1:3]) # Do segundo ao terceiro elemento (o indice 3 fica fora slice)\n",
    "print(\"2 =>\", lista[:2])  # Todos os elementos *até* a segunda posição\n",
    "print(\"3 =>\", lista[1:])  # Todos os elementos *a partir* da segunda posição\n",
    "print(\"4 =>\", lista[:-1]) # Excluindo o último elemento\n",
    "print(\"5 =>\", lista[:])   # Todos os elementos da lista"
   ]
  },
  {
   "cell_type": "markdown",
   "metadata": {},
   "source": [
    "As listas possuem métodos próprios para lidar com operações básicas dos seus elementos, como por exemplo:"
   ]
  },
  {
   "cell_type": "code",
   "execution_count": null,
   "metadata": {},
   "outputs": [],
   "source": [
    "# Remove o elemento da lista\n",
    "lista.remove(22.34)\n",
    "print(\"Depois de remover:\", lista)\n",
    "\n",
    "# Inverte a ordem dos elementos da lista\n",
    "lista.reverse()\n",
    "print(\"Lista invertida: \", lista)\n",
    "\n",
    "# Ordena os elementos da lista\n",
    "# Aqui ele não vai funcionar, por que temos outras listas dentro dele :(\n",
    "# lista.sort() \n",
    "# print(\"Lista ordenada: \", lista)\n",
    "\n",
    "# Adiciona os elementos de outra lista no final da lista\n",
    "nova_lista = [\"Elementos ;)\", {\"dicio\": \"nario\", \"ex\": \"tra\"}, (\"Uma\", \"tupla\")]\n",
    "lista.extend(nova_lista)\n",
    "print(\"Lista extendida: \", lista)\n",
    "\n",
    "# Coloca um novo elemento no índice dado\n",
    "lista.insert(1, \"Eu sou o segundo\")\n",
    "print(\"Novo elemento na segunda posição:\", lista)\n",
    "\n",
    "# Checa se o valor existe na lista\n",
    "if \"Python\" in lista:\n",
    "    print(\"Estamos aqui\")\n",
    "else: \n",
    "    print(\"Não estamos aqui\")"
   ]
  },
  {
   "cell_type": "markdown",
   "metadata": {},
   "source": [
    "Tuplas são exatamente iguais a listas, com uma diferença crucial: elas são imutáveis, isso é, os valores de uma tupla não podem ser mudados. Ou seja, é uma lista que você cria apenas uma vez e ela é *read-only*."
   ]
  },
  {
   "cell_type": "code",
   "execution_count": null,
   "metadata": {},
   "outputs": [],
   "source": [
    "tupla = (\"baNaNa\", 42, True, 84.09)\n",
    "\n",
    "# Indices funcionam exatamente como listas\n",
    "print(tupla[0], tupla[-1])\n",
    "\n",
    "# Cada valor pode ser desempacotado de sua tupla:\n",
    "fruta, resposta, verdade, preco = tupla\n",
    "print(fruta, resposta, verdade, preco)\n",
    "\n",
    "# São constantes, não podem ser mudadas\n",
    "tupla[1] = \"Error :(\""
   ]
  },
  {
   "cell_type": "markdown",
   "metadata": {},
   "source": [
    "Dicionários são listas com índices de strings ao invés de inteiros. \n",
    "\n",
    "Aqui nós usamos para criar elementos nomeados dentro de uma estrutura de dados, e assim como listas, aceitam qualquer tipo de dados."
   ]
  },
  {
   "cell_type": "code",
   "execution_count": null,
   "metadata": {},
   "outputs": [],
   "source": [
    "dicio = {\n",
    "    \"mensagem\": \"Bom dia, Joãozinho!\",\n",
    "    \"tamanho\": 15,\n",
    "    \"amigos\": [\"Miguel\", \"Maria\", \"Lisa\", \"Steve\"]\n",
    "}"
   ]
  },
  {
   "cell_type": "code",
   "execution_count": null,
   "metadata": {},
   "outputs": [],
   "source": [
    "# Acessamos colocando o nome do campo entre chaves\n",
    "print(dicio[\"tamanho\"])\n",
    "\n",
    "# Se não achar a chave \"mensagem\" retorna o segundo argumento\n",
    "print(dicio.get(\"mensagem\", \"Bom dia, Usuário!\"))\n",
    "\n",
    "# Adiciona mais campos no dicionário\n",
    "dicio.update({ \"preco\": 32, \"produto\": \"BaNaNa\" })\n",
    "dicio"
   ]
  },
  {
   "cell_type": "code",
   "execution_count": null,
   "metadata": {},
   "outputs": [],
   "source": [
    "# Checa se a chave existe no dicionário\n",
    "if \"mensagem\" in dicio:\n",
    "    print(\"Essa chave está aqui\")\n",
    "\n",
    "# Checa se o valor existe no dicionário\n",
    "if 15 in dicio.values():\n",
    "    print(\"Esse valor está no dicionário\")"
   ]
  }
 ],
 "metadata": {
  "kernelspec": {
   "display_name": "Python 3",
   "language": "python",
   "name": "python3"
  },
  "language_info": {
   "codemirror_mode": {
    "name": "ipython",
    "version": 3
   },
   "file_extension": ".py",
   "mimetype": "text/x-python",
   "name": "python",
   "nbconvert_exporter": "python",
   "pygments_lexer": "ipython3",
   "version": "3.11.1"
  },
  "orig_nbformat": 4
 },
 "nbformat": 4,
 "nbformat_minor": 2
}
