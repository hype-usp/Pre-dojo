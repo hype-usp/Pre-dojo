{
 "cells": [
  {
   "cell_type": "markdown",
   "metadata": {},
   "source": [
    "# Parte 1: Loops"
   ]
  },
  {
   "cell_type": "markdown",
   "metadata": {},
   "source": [
    "Quando queremos repetir o mesmo comando mais de uma vez, ficar dando ctrl+c ctrl+v não é a maneira mais eficiente. \n",
    "\n",
    "Por exemplo, Professor Biruta adora contar carneirinhos antes de dormir. Mas ele gosta de contar exatamente como Guido Van Rossum planejou para o Python: escrevendo cada print() na mão: "
   ]
  },
  {
   "cell_type": "code",
   "execution_count": null,
   "metadata": {},
   "outputs": [
    {
     "name": "stdout",
     "output_type": "stream",
     "text": [
      "1 carneirinho\n",
      "2 carneirinhos\n",
      "3 carneirinhos\n",
      "4 carneirinhos\n",
      "5 carneirinhos\n"
     ]
    }
   ],
   "source": [
    "print(\"1 carneirinho\")\n",
    "print(\"2 carneirinhos\")\n",
    "print(\"3 carneirinhos\")\n",
    "print(\"4 carneirinhos\")\n",
    "print(\"5 carneirinhos\")"
   ]
  },
  {
   "cell_type": "markdown",
   "metadata": {},
   "source": [
    "Mas um dia ele resolveu contar até 100 carneirinhos, mas como é chato fazer um por um, acabou dormindo enquanto escrevia o vigésimo print().\n",
    "\n",
    "Para ajudar o Professor, vamos ver a nossa primeira estrutura de repetição (loop): o while. Ele vai repetir as intruções dentro dele enquanto a expressão dada for verdadeira. "
   ]
  },
  {
   "cell_type": "code",
   "execution_count": null,
   "metadata": {},
   "outputs": [
    {
     "name": "stdout",
     "output_type": "stream",
     "text": [
      "1 carneirinhos\n",
      "2 carneirinhos\n",
      "3 carneirinhos\n",
      "4 carneirinhos\n",
      "5 carneirinhos\n"
     ]
    }
   ],
   "source": [
    "i = 0 # Qual o valor que começamos\n",
    "\n",
    "while i < 5: # O loop para quando \"i\" for igual a 4 (menor que 5)\n",
    "    print(i + 1, \"carneirinhos\")\n",
    "    i += 1 # Adiciona uma iteração no loop"
   ]
  },
  {
   "cell_type": "markdown",
   "metadata": {},
   "source": [
    "Podemos fazer a mesma coisa com um for, que em python é um pouco diferente. Não temos aquele famoso:\n",
    "\n",
    "```java\n",
    "for(int i = 0; i < 5; i++) {\n",
    "    // Código\n",
    "}\n",
    "```\n",
    "\n",
    "Nós usamos a função range(), retorna a mesma coisa que o for de cima. Ele vai criar uma sequência de 5 números começando com 0 para mexermos com índices, dessa maneira:\n",
    "\n",
    "```python\n",
    "[0, 1, 2, 3, 4]\n",
    "```\n"
   ]
  },
  {
   "cell_type": "code",
   "execution_count": null,
   "metadata": {},
   "outputs": [
    {
     "name": "stdout",
     "output_type": "stream",
     "text": [
      "Contando 1 carneirinhos\n",
      "Contando 2 carneirinhos\n",
      "Contando 3 carneirinhos\n",
      "Contando 4 carneirinhos\n",
      "Contando 5 carneirinhos\n"
     ]
    }
   ],
   "source": [
    "# Equivalente \n",
    "for carneiro in range(5):\n",
    "    # Adicionamos + 1 para que a gente não conte \"0 carneirinhos\"\n",
    "    print(\"Contando\", carneiro + 1, \"carneirinhos\")"
   ]
  },
  {
   "cell_type": "markdown",
   "metadata": {},
   "source": [
    "É legal de saber, mas durante os projetos python, a maneira que você mais vai usar é passar um iterável para o for.\n",
    "\n",
    "Mas o que é um iterável?\n",
    "Iterável é qualquer estrutura de dados que podemos passar por todos os elementos iterativamente (daí o nome). No python, temos por exemplo:\n",
    "\n",
    "- Listas\n",
    "- Dicionários\n",
    "- Tuplas\n",
    "- Conjuntos (set)\n",
    "- Strings (são nada mais que uma lista de caracteres)\n",
    "- DataFrames do Pandas\n",
    "- Arrays do NumPy\n",
    "- Classes Iteráveis"
   ]
  },
  {
   "cell_type": "code",
   "execution_count": null,
   "metadata": {},
   "outputs": [
    {
     "name": "stdout",
     "output_type": "stream",
     "text": [
      "\t Lista:\n",
      "1 carneirinhos\n",
      "2 carneirinhos\n",
      "3 carneirinhos\n",
      "4 carneirinhos\n",
      "5 carneirinhos\n",
      "\n",
      "\t Dicionário:\n",
      "nome => Professor Biruta\n",
      "idade => 77\n",
      "profissao => Professor\n",
      "\n",
      "\t String:\n",
      "H\n",
      "y\n",
      "p\n",
      "e\n"
     ]
    }
   ],
   "source": [
    "# Passamos uma lista\n",
    "print(\"\\t Lista:\")\n",
    "carneirinhos = [1, 2, 3, 4, 5]\n",
    "for carneiro in carneirinhos:\n",
    "    print(carneiro, \"carneirinhos\")\n",
    "\n",
    "\n",
    "# Passamos um dicionário\n",
    "print(\"\\n\\t Dicionário:\")\n",
    "biruta = {\n",
    "    \"nome\": \"Professor Biruta\",\n",
    "    \"idade\": 77,\n",
    "    \"profissao\": \"Professor\"\n",
    "}\n",
    "\n",
    "for chave, item in biruta.items():\n",
    "    print(chave, \"=>\", item)\n",
    "\n",
    "\n",
    "# Passamos uma string\n",
    "print(\"\\n\\t String:\")\n",
    "string = \"Hype\"\n",
    "for letra in string:\n",
    "    print(letra)"
   ]
  },
  {
   "cell_type": "markdown",
   "metadata": {},
   "source": [
    "Para ajudar a iterar com o \"for\", nós temos várias funções auxiliares que podem ajudar. \n",
    "\n",
    "A primera é a \"enumerate()\" que vai devolver um par (índice, valor) para todos os valores dentro de um iterável."
   ]
  },
  {
   "cell_type": "code",
   "execution_count": null,
   "metadata": {},
   "outputs": [
    {
     "name": "stdout",
     "output_type": "stream",
     "text": [
      "Breno está no índice 0\n",
      "Enzo está no índice 1\n",
      "Igor está no índice 2\n",
      "Júlia está no índice 3\n"
     ]
    },
    {
     "data": {
      "text/plain": [
       "'Igor'"
      ]
     },
     "metadata": {},
     "output_type": "display_data"
    }
   ],
   "source": [
    "lista = [\"Breno\", \"Enzo\", \"Igor\", \"Júlia\"]\n",
    "for indice, nome in enumerate(lista):\n",
    "    print(f\"{nome} está no índice {indice}\")\n",
    "\n",
    "# E se formos confirmar:\n",
    "lista[2]"
   ]
  },
  {
   "cell_type": "markdown",
   "metadata": {},
   "source": [
    "A função \"zip()\", que como o nome diz, \"zipa\" duas listas juntas e retorna os elementos em um indíce específico juntos. Se elas forem de tamanhos diferentes, o zip() retorna com o número menor entre as duas."
   ]
  },
  {
   "cell_type": "code",
   "execution_count": null,
   "metadata": {},
   "outputs": [
    {
     "name": "stdout",
     "output_type": "stream",
     "text": [
      "Breno gosta de Manga\n",
      "Enzo gosta de Banana\n",
      "Igor gosta de Laranja\n",
      "Júlia gosta de Maçã\n"
     ]
    }
   ],
   "source": [
    "lista = [\"Breno\", \"Enzo\", \"Igor\", \"Júlia\"]\n",
    "listaf = [\"Manga\", \"Banana\", \"Laranja\", \"Maçã\", \"Romã\", \"Pera\", \"Tomate\", \"Abacaxi\"]\n",
    "for nome, fruta in zip(lista, listaf):\n",
    "    print(f\"{nome} gosta de {fruta}\")"
   ]
  },
  {
   "cell_type": "markdown",
   "metadata": {},
   "source": [
    "A função reversed() faz o que o nome diz, pega um iterável e retorna ele de trás pra frente. Primeiro vira o último, e último vira o primeiro. "
   ]
  },
  {
   "cell_type": "code",
   "execution_count": null,
   "metadata": {},
   "outputs": [
    {
     "name": "stdout",
     "output_type": "stream",
     "text": [
      "Júlia\n",
      "Igor\n",
      "Enzo\n",
      "Breno\n"
     ]
    }
   ],
   "source": [
    "lista = [\"Breno\", \"Enzo\", \"Igor\", \"Júlia\"]\n",
    "for last in reversed(lista):\n",
    "    print(last)"
   ]
  },
  {
   "cell_type": "markdown",
   "metadata": {},
   "source": [
    "# Parte 2: Manipulação de Strings"
   ]
  },
  {
   "cell_type": "markdown",
   "metadata": {},
   "source": [
    "Em python, você pode criar uma string com três operadores diferentes. "
   ]
  },
  {
   "cell_type": "code",
   "execution_count": 9,
   "metadata": {},
   "outputs": [
    {
     "name": "stdout",
     "output_type": "stream",
     "text": [
      "Aspas Simples\n",
      "\n",
      "Aspas Duplas\n",
      "\n",
      " \n",
      "As três aspas querem dizer que você vai \n",
      "colocar uma string de múltiplas linhas\n",
      "\n",
      "    Só tome cuidado por que ele considera qualquer \n",
      "    espaço ou tab como um caractere,\n",
      "    e não como uma identação de código.\n",
      "\n",
      "Três aspas também são como criamos doc strings em python!\n",
      "(Vamos mostrar mais pra frente)\n",
      "\n"
     ]
    }
   ],
   "source": [
    "# Aspas simples\n",
    "simples = 'Aspas Simples'\n",
    "\n",
    "# Aspas duplas \n",
    "duplas = \"Aspas Duplas\"\n",
    "\n",
    "# Três Aspas (podem ser simples ou duplas)\n",
    "super_string = \"\"\" \n",
    "As três aspas querem dizer que você vai \n",
    "colocar uma string de múltiplas linhas\n",
    "\n",
    "    Só tome cuidado por que ele considera qualquer \n",
    "    espaço ou tab como um caractere,\n",
    "    e não como uma identação de código.\n",
    "\n",
    "Três aspas também são como criamos doc strings em python!\n",
    "(Vamos mostrar mais pra frente)\n",
    "\"\"\"\n",
    "\n",
    "print(simples)\n",
    "print()\n",
    "print(duplas)\n",
    "print()\n",
    "print(super_string)"
   ]
  },
  {
   "cell_type": "markdown",
   "metadata": {},
   "source": [
    "### Variáveis dentro de Strings"
   ]
  },
  {
   "cell_type": "markdown",
   "metadata": {},
   "source": [
    "Existem várias formas em python de colocar variáveis em strings."
   ]
  },
  {
   "cell_type": "code",
   "execution_count": null,
   "metadata": {},
   "outputs": [],
   "source": [
    "nome, nota = \"Paul Atreides\", 7.67 \n",
    "string =  nome + \" tirou \" + str(nota) + \" na média final\" # Chato, pateta, cringe, sem graça :P"
   ]
  },
  {
   "cell_type": "markdown",
   "metadata": {},
   "source": [
    "Essa acima é basicamente uma concatenção das partes com o operador \"+\". Não é uma das formas mais recomendadas em python pois em alguns casos pode deixar o código menos claro\n",
    "\n",
    "Em vez disso, normalmente optamos pelas \"fstrings\". Basta colocar a o caractere \"f\" antes do inicio da string e as variáveis entre chaves como no exemplo abaixo"
   ]
  },
  {
   "cell_type": "code",
   "execution_count": null,
   "metadata": {},
   "outputs": [
    {
     "name": "stdout",
     "output_type": "stream",
     "text": [
      "Paul Atreides tirou 7.67 na média final\n",
      "Joãozinho tirou 4.7 na média final\n",
      "Paul Atreides tirou 10.000000 na P1 e 8 na média final\n"
     ]
    }
   ],
   "source": [
    "# As variáveis não precisam ser só string!\n",
    "nome, nota = \"Paul Atreides\", 7.67\n",
    "fstring = f\"{nome} tirou {nota} na média final\" # Divertido, legal, descolado B)\n",
    "print(fstring)\n",
    "\n",
    "# Importamos raíz quadrada\n",
    "from math import sqrt \n",
    "# Pode ter cálculos/chamadas para funções dentro das chaves!\n",
    "print(f\"{nome} tirou {nota*2:.6f} na P1 e {2 ** 3} na média final\") "
   ]
  },
  {
   "cell_type": "markdown",
   "metadata": {},
   "source": [
    "Vale citar também que caso seja necessário utilizar aspas dentro de uma string você deve usar as aspas duplas ou aspas triplas para substituir onde houver conflito"
   ]
  },
  {
   "cell_type": "code",
   "execution_count": null,
   "metadata": {},
   "outputs": [],
   "source": [
    "aluno = { \"nome\": \"Joãozinho\", \"nota\": 4.70}\n",
    "# Nesse caso a string tem que ser aspas duplas, pq usamos aspas simples no dicionário!\n",
    "print(f\"{aluno['nome']} tirou {aluno['nota']} na média final\")"
   ]
  },
  {
   "cell_type": "markdown",
   "metadata": {},
   "source": [
    "### Métodos de String"
   ]
  },
  {
   "cell_type": "markdown",
   "metadata": {},
   "source": [
    "Strings (str) em python vêm com funções embutidas para fazermos algumas transformações "
   ]
  },
  {
   "cell_type": "code",
   "execution_count": 24,
   "metadata": {},
   "outputs": [
    {
     "name": "stdout",
     "output_type": "stream",
     "text": [
      "UPPER:\n",
      "TRÊS PRATOS DE TRIGO PARA TRÊS TIGRES TRISTES\n",
      "\n",
      "lower:\n",
      "três pratos de trigo para três tigres tristes\n",
      "\n",
      "Title Case:\n",
      "Três Pratos De Trigo Para Três Tigres Tristes\n",
      "\n",
      "Capitalize:\n",
      "Três pratos de trigo para três tigres tristes\n"
     ]
    }
   ],
   "source": [
    "string = \"três pratos de trigo para três tigres tristes\"\n",
    "\n",
    "string = string.upper()  # deixa tudo maiúsculo\n",
    "print(\"UPPER:\") \n",
    "print(string)\n",
    "\n",
    "string = string.lower()  # deixa tudo minúsculo\n",
    "print(\"\\nlower:\")\n",
    "print(string)\n",
    "\n",
    "string = string.title()  # deixa as iniciais maiúsculas\n",
    "print(\"\\nTitle Case:\")\n",
    "print(string)\n",
    "\n",
    "string = string.capitalize() # Coloca a primeira letra maiúscula\n",
    "print(\"\\nCapitalize:\")\n",
    "print(string)"
   ]
  },
  {
   "cell_type": "markdown",
   "metadata": {},
   "source": [
    "O método split() faz cortes na string e coloca cada pedaço em uma posição de uma lista.\n",
    "No exemplo abaixo, o split está sendo feito quando encontra um espaço. Cada índice da lista \"nomes\" é um nome dos que estavam na string.\n",
    "Com essa lista, agora podemos utilizar um loop para fazer qualquer iteração pertinente."
   ]
  },
  {
   "cell_type": "code",
   "execution_count": null,
   "metadata": {},
   "outputs": [
    {
     "name": "stdout",
     "output_type": "stream",
     "text": [
      "Lista de Presença!\n",
      "    - João\n",
      "    - Maria\n",
      "    - Bruno\n",
      "    - Amanda\n",
      "    - Luigi\n",
      "    - Juliana\n"
     ]
    },
    {
     "data": {
      "text/plain": [
       "'João-Maria-Bruno-Amanda-Luigi-Juliana'"
      ]
     },
     "execution_count": 14,
     "metadata": {},
     "output_type": "execute_result"
    }
   ],
   "source": [
    "string = \"João Maria Bruno Amanda Luigi Juliana\"\n",
    "nomes = string.split(\" \") # Separamos por espaço cada nome\n",
    "\n",
    "print(\"Lista de Presença!\")\n",
    "for nome in nomes:\n",
    "    print(f\"    - {nome}\")\n",
    "\n",
    "# Para juntar várias strings\n",
    "\"-\".join(nomes) # Coloca a string entre \"\" no meio da cada palavra"
   ]
  },
  {
   "cell_type": "code",
   "execution_count": 22,
   "metadata": {},
   "outputs": [
    {
     "name": "stdout",
     "output_type": "stream",
     "text": [
      "Para\n",
      "ns!\n",
      "rabén\n",
      "\n",
      "Existe um 'ara'!\n"
     ]
    }
   ],
   "source": [
    "# Slices funcionam com strings também!\n",
    "string = \"Parabéns!\"\n",
    "print(string[:4])\n",
    "print(string[-3:])\n",
    "print(string[2:7])\n",
    "\n",
    "# Pode usar o operador \"in\" também!\n",
    "if \"ara\" in string:\n",
    "    print(\"\\nExiste um 'ara'!\")"
   ]
  },
  {
   "cell_type": "markdown",
   "metadata": {},
   "source": [
    "# Parte 2: Funções"
   ]
  },
  {
   "cell_type": "markdown",
   "metadata": {},
   "source": [
    "Funções são uma parte fundamental de qualquer linguagem, mas em Python elas brilham. Trabalhar com funções é tão flexível e dinâmico que muitas vezes parece até mágica! Vamos ver um exemplo de função:"
   ]
  },
  {
   "cell_type": "code",
   "execution_count": null,
   "metadata": {},
   "outputs": [
    {
     "name": "stdout",
     "output_type": "stream",
     "text": [
      "Hello, everybody :)\n"
     ]
    }
   ],
   "source": [
    "# Estrutura:\n",
    "# def <nome> (<parametros>):\n",
    "def say_hello():\n",
    "    print(\"Hello, everybody :)\")\n",
    "\n",
    "say_hello()\n"
   ]
  },
  {
   "cell_type": "markdown",
   "metadata": {},
   "source": [
    "Uma função geralmente recebe argumentos (ou parâmetros), que são informações que são repassadas para o escopo da função para serem processadas. Em python, um parâmetro pode receber qualquer coisa, cabe ao programador fazer a limpeza da informação e garantir que está no formato que ele queira."
   ]
  },
  {
   "cell_type": "code",
   "execution_count": 36,
   "metadata": {},
   "outputs": [
    {
     "name": "stdout",
     "output_type": "stream",
     "text": [
      "10 - 5 = 5\n"
     ]
    },
    {
     "ename": "TypeError",
     "evalue": "unsupported operand type(s) for -: 'int' and 'str'",
     "output_type": "error",
     "traceback": [
      "\u001b[0;31m---------------------------------------------------------------------------\u001b[0m",
      "\u001b[0;31mTypeError\u001b[0m                                 Traceback (most recent call last)",
      "Cell \u001b[0;32mIn[36], line 7\u001b[0m\n\u001b[1;32m      4\u001b[0m print_subtraction(\u001b[38;5;241m10\u001b[39m, \u001b[38;5;241m5\u001b[39m)\n\u001b[1;32m      6\u001b[0m \u001b[38;5;66;03m# Essa chamada da função vai dar um erro, mas o valor é aceito \u001b[39;00m\n\u001b[0;32m----> 7\u001b[0m \u001b[43mprint_subtraction\u001b[49m\u001b[43m(\u001b[49m\u001b[38;5;241;43m30\u001b[39;49m\u001b[43m,\u001b[49m\u001b[43m \u001b[49m\u001b[38;5;124;43m\"\u001b[39;49m\u001b[38;5;124;43merror\u001b[39;49m\u001b[38;5;124;43m\"\u001b[39;49m\u001b[43m)\u001b[49m\n",
      "Cell \u001b[0;32mIn[36], line 2\u001b[0m, in \u001b[0;36mprint_subtraction\u001b[0;34m(a, b)\u001b[0m\n\u001b[1;32m      1\u001b[0m \u001b[38;5;28;01mdef\u001b[39;00m \u001b[38;5;21mprint_subtraction\u001b[39m(a, b):\n\u001b[0;32m----> 2\u001b[0m     \u001b[38;5;28mprint\u001b[39m(\u001b[38;5;124mf\u001b[39m\u001b[38;5;124m\"\u001b[39m\u001b[38;5;132;01m{\u001b[39;00ma\u001b[38;5;132;01m}\u001b[39;00m\u001b[38;5;124m - \u001b[39m\u001b[38;5;132;01m{\u001b[39;00mb\u001b[38;5;132;01m}\u001b[39;00m\u001b[38;5;124m = \u001b[39m\u001b[38;5;132;01m{\u001b[39;00m\u001b[43ma\u001b[49m\u001b[38;5;250;43m \u001b[39;49m\u001b[38;5;241;43m-\u001b[39;49m\u001b[38;5;250;43m \u001b[39;49m\u001b[43mb\u001b[49m\u001b[38;5;132;01m}\u001b[39;00m\u001b[38;5;124m\"\u001b[39m)\n",
      "\u001b[0;31mTypeError\u001b[0m: unsupported operand type(s) for -: 'int' and 'str'"
     ]
    }
   ],
   "source": [
    "def print_subtraction(a, b):\n",
    "    print(f\"{a} - {b} = {a - b}\")\n",
    "\n",
    "print_subtraction(10, 5)\n",
    "\n",
    "# Essa chamada da função vai dar um erro, mas o valor é aceito \n",
    "# print_subtraction(30, \"error\")"
   ]
  },
  {
   "cell_type": "markdown",
   "metadata": {},
   "source": [
    "Para dar uma ideia do que a função faz, nós podemos \"anotar\" ela com os tipos que ela recebe e o que ela retorna. Isso não vai levantar um erro se você passar o tipo errado, mas vai documentar a função , e em IDEs como o VsCode, ele te ajuda com os tipos. "
   ]
  },
  {
   "cell_type": "code",
   "execution_count": 37,
   "metadata": {},
   "outputs": [
    {
     "data": {
      "text/plain": [
       "5.0"
      ]
     },
     "execution_count": 37,
     "metadata": {},
     "output_type": "execute_result"
    }
   ],
   "source": [
    "# Recebe dois inteiros e retorna um float\n",
    "def calculate_equation(a: int, b: int) -> float:\n",
    "    return (a + b) / b # Retorna float por ser uma divisão\n",
    "\n",
    "calculate_equation(20, 5)"
   ]
  },
  {
   "cell_type": "markdown",
   "metadata": {},
   "source": [
    "Você pode usar o nome dos argumentos para dar o seu valor, e na declaração da função, pode dar um valor *default* pra um parâmetro."
   ]
  },
  {
   "cell_type": "code",
   "execution_count": 43,
   "metadata": {},
   "outputs": [
    {
     "name": "stdout",
     "output_type": "stream",
     "text": [
      "a=2 | b=1\n",
      "1.5 \n",
      "\n",
      "a=2 | b=23\n",
      "12.5\n"
     ]
    }
   ],
   "source": [
    "def mean(a=2, b=1):\n",
    "    print(f\"a={a} | b={b}\")\n",
    "    return (a + b) / 2\n",
    "\n",
    "# Se eu chamar com nada, ele vai. Pois tem valores padrão\n",
    "print(mean(), \"\\n\")\n",
    "\n",
    "# Mas se pode passar os parâmetros em qualquer ordem, desde que coloque os nomes\n",
    "print(mean(b=23, a=2))"
   ]
  },
  {
   "cell_type": "markdown",
   "metadata": {},
   "source": [
    "Podemos passar parâmetros \"infinitos\" (arbitrários) para uma função usando os operadores de Lista de Argumentos (*) e de Keyword Arguments (**)"
   ]
  },
  {
   "cell_type": "code",
   "execution_count": 53,
   "metadata": {},
   "outputs": [
    {
     "name": "stdout",
     "output_type": "stream",
     "text": [
      "Primeiro a somar -> 1\n",
      "Último a somar -> 10\n",
      "55\n"
     ]
    }
   ],
   "source": [
    "def soma_infinita(*args): # A variável é convencionada em ser chamada de \"args\"!\n",
    "    print(f\"Primeiro a somar -> {args[0]}\")\n",
    "    print(f\"Último a somar -> {args[-1]}\")\n",
    "\n",
    "    # \"args\" é essencialmente uma lista, então podemos iterar\n",
    "    soma = 0\n",
    "    for numero in args:\n",
    "        soma += numero\n",
    "    return soma\n",
    "\n",
    "# Coloque quantos numeros quiser\n",
    "print(soma_infinita(1, 2, 3, 4, 5, 6, 7, 8, 9, 10))"
   ]
  },
  {
   "cell_type": "code",
   "execution_count": 54,
   "metadata": {},
   "outputs": [
    {
     "name": "stdout",
     "output_type": "stream",
     "text": [
      "O filho cacula é João\n",
      "O filho meio é Maria\n",
      "O filho mais_velho é Natália\n"
     ]
    }
   ],
   "source": [
    "def meus_filhos(**kwargs): # Convencionado em ser \"kwargs\" (KeyWord Args)\n",
    "    # \"kwargs\" é um dicionário, então podemos iterar também\n",
    "    for chave, valor in kwargs.items():\n",
    "        print(f\"O filho {chave} é {valor}\")\n",
    "\n",
    "meus_filhos(cacula=\"João\", meio=\"Maria\", mais_velho=\"Natália\")"
   ]
  },
  {
   "cell_type": "markdown",
   "metadata": {},
   "source": [
    "Em python funções podem retornar mais de um valor!"
   ]
  },
  {
   "cell_type": "code",
   "execution_count": 56,
   "metadata": {},
   "outputs": [
    {
     "name": "stdout",
     "output_type": "stream",
     "text": [
      "25 - 100\n",
      "25 - 100\n"
     ]
    }
   ],
   "source": [
    "def soma_multiplica(a: int, b: int) -> tuple[float, float]:\n",
    "    soma = a + b\n",
    "    multiplica = a * b\n",
    "    return soma, multiplica\n",
    "\n",
    "# Podemos \"desestruturar\" o retorno\n",
    "soma, mult = soma_multiplica(20, 5)\n",
    "print(f\"{soma} - {mult}\")\n",
    "\n",
    "# Ou usamos o retorno como uma lista (tupla, na verdade)\n",
    "val = soma_multiplica(20, 5)\n",
    "print(f\"{val[0]} - {val[1]}\")"
   ]
  },
  {
   "cell_type": "markdown",
   "metadata": {},
   "source": [
    "# Parte 3: Módulos "
   ]
  },
  {
   "cell_type": "markdown",
   "metadata": {},
   "source": [
    "Sempre vamos ter a necessidade de reutilizar códigos já escrito quando estamos fazendo um projeto real, e para cuidar disso, o Python usa o sistema de módulos. Módulos nada mais são que as pastas e subpastas em que seu código está guardado, ou aponta para uma biblioteca que foi instalada pelo gerenciador de pacotes. \n",
    "\n",
    "Por padrão temos algumas bibliotecas já instaladas no Python, que são mantidas pelo time que desenvolve a linguagem: "
   ]
  },
  {
   "cell_type": "code",
   "execution_count": 59,
   "metadata": {},
   "outputs": [
    {
     "name": "stdout",
     "output_type": "stream",
     "text": [
      "120\n",
      "-0.9880316240928618\n",
      "120\n"
     ]
    }
   ],
   "source": [
    "import math \n",
    "\n",
    "# Para acessar as funções dentro de um módulo, segue o padrão:\n",
    "# <módulo>.<função>\n",
    "print(math.factorial(5))\n",
    "print(math.sin(30))\n",
    "\n",
    "# Podemos importar uma função de um módulo, sem importar o módulo em si: \n",
    "from math import factorial\n",
    "\n",
    "print(factorial(5))"
   ]
  },
  {
   "cell_type": "markdown",
   "metadata": {},
   "source": [
    "Como vocês vão ver bastante em códigos, podemos \"renomear\" os módulos que usamos. É um apelido que podemos usar durante a execução de um código, para que fique mais fácil de escrever/entender o código."
   ]
  },
  {
   "cell_type": "code",
   "execution_count": 66,
   "metadata": {},
   "outputs": [
    {
     "name": "stdout",
     "output_type": "stream",
     "text": [
      "9\n",
      "2\n"
     ]
    }
   ],
   "source": [
    "import random as rd \n",
    "\n",
    "print(rd.randint(1, 10)) # Retona um int aleatório entre 0 e 10\n",
    "\n",
    "# Podemos fazer o mesmo com funções dentro de um módulo\n",
    "from random import randint as numero_aleatorio\n",
    "\n",
    "print(numero_aleatorio(1, 10))"
   ]
  },
  {
   "cell_type": "markdown",
   "metadata": {},
   "source": [
    "Para que possamos usar bibliotecas externas, precisamos baixar elas por meio do gerenciador de pacotes do Python, o PIP. Para isso, precisamos somente digitar isso no terminal: \n",
    "\n",
    "```pip install <biblioteca>```\n",
    "\n",
    "Ou se quiser fazer isso pelo notebook, coloque um \"%\" na frente, assim:"
   ]
  },
  {
   "cell_type": "code",
   "execution_count": null,
   "metadata": {},
   "outputs": [],
   "source": [
    "%pip install requests"
   ]
  },
  {
   "cell_type": "markdown",
   "metadata": {},
   "source": [
    "Vamos usar a biblioteca que acabamos de instalar para mostrar um exemplo completo de como usar bibliotecas! \n",
    "\n",
    "O módulo \"requests\" é uma biblioteca famosa em python que entrega uma interface simples e intuitiva para criar requsições HTTP. Vamos usar ela pra fazer uma requisição para uma API aberta e retornar o que ela nos trás!"
   ]
  },
  {
   "cell_type": "code",
   "execution_count": 72,
   "metadata": {},
   "outputs": [
    {
     "data": {
      "image/jpeg": "[encoded data removed]",
      "text/plain": [
       "<IPython.core.display.Image object>"
      ]
     },
     "metadata": {},
     "output_type": "display_data"
    }
   ],
   "source": [
    "from IPython.display import Image, display # Algumas funções auxiliares que manipulam o notebook, não se preocupa\n",
    "import requests as rq \n",
    "\n",
    "URL = \"https://http.cat/404\" \n",
    "resposta = rq.get(URL) # Fazemos a requisição para a API\n",
    "\n",
    "data = resposta.content # Pegamos o que ela retorna\n",
    "img = Image(data) # Wow, parece que ela retorna uma imagem!\n",
    "\n",
    "display(img) # Mostramos a imagem no notebook"
   ]
  },
  {
   "cell_type": "markdown",
   "metadata": {},
   "source": [
    "Agora que sabemos como usar módulos, vamos instalar alguns que serão úteis nas próximas aulas!\n",
    "\n",
    "- Pandas \n",
    "- Matplotlib\n",
    "- Numpy\n",
    "- Scikit Learn"
   ]
  },
  {
   "cell_type": "code",
   "execution_count": null,
   "metadata": {},
   "outputs": [],
   "source": [
    "%pip install pandas matplotlib numpy scikit-learn"
   ]
  }
 ],
 "metadata": {
  "kernelspec": {
   "display_name": "Python 3",
   "language": "python",
   "name": "python3"
  },
  "language_info": {
   "codemirror_mode": {
    "name": "ipython",
    "version": 3
   },
   "file_extension": ".py",
   "mimetype": "text/x-python",
   "name": "python",
   "nbconvert_exporter": "python",
   "pygments_lexer": "ipython3",
   "version": "3.10.12"
  },
  "orig_nbformat": 4
 },
 "nbformat": 4,
 "nbformat_minor": 2
}
